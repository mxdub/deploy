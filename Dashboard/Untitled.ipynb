{
 "cells": [
  {
   "cell_type": "code",
   "execution_count": 5,
   "id": "f40bdcb1-17f3-403e-ba99-be8a99e73666",
   "metadata": {},
   "outputs": [],
   "source": [
    "import pandas as pd\n",
    "\n",
    "s = pd.read_csv('../API/us_data_subset.csv').pop('SK_ID_CURR')"
   ]
  },
  {
   "cell_type": "code",
   "execution_count": 21,
   "id": "4ab7a190-1ef8-460e-8cac-ae23790a778f",
   "metadata": {},
   "outputs": [
    {
     "data": {
      "text/plain": [
       "2834090"
      ]
     },
     "execution_count": 21,
     "metadata": {},
     "output_type": "execute_result"
    }
   ],
   "source": [
    "id=2834090\n",
    "id"
   ]
  },
  {
   "cell_type": "code",
   "execution_count": 12,
   "id": "0996f5a5-9b3f-41f5-8cfb-fd4b7262656a",
   "metadata": {},
   "outputs": [],
   "source": [
    "import numpy as np"
   ]
  },
  {
   "cell_type": "code",
   "execution_count": 22,
   "id": "f8c3fbdf-25de-4ef5-b5ca-5514c6f3336f",
   "metadata": {},
   "outputs": [
    {
     "ename": "IndexError",
     "evalue": "index 0 is out of bounds for axis 0 with size 0",
     "output_type": "error",
     "traceback": [
      "\u001b[1;31m---------------------------------------------------------------------------\u001b[0m",
      "\u001b[1;31mIndexError\u001b[0m                                Traceback (most recent call last)",
      "Input \u001b[1;32mIn [22]\u001b[0m, in \u001b[0;36m<cell line: 1>\u001b[1;34m()\u001b[0m\n\u001b[1;32m----> 1\u001b[0m s[\u001b[43mnp\u001b[49m\u001b[38;5;241;43m.\u001b[39;49m\u001b[43mwhere\u001b[49m\u001b[43m(\u001b[49m\u001b[38;5;28;43mid\u001b[39;49m\u001b[43m \u001b[49m\u001b[38;5;241;43m==\u001b[39;49m\u001b[43m \u001b[49m\u001b[43ms\u001b[49m\u001b[43m)\u001b[49m\u001b[43m[\u001b[49m\u001b[38;5;241;43m0\u001b[39;49m\u001b[43m]\u001b[49m\u001b[43m[\u001b[49m\u001b[38;5;241;43m0\u001b[39;49m\u001b[43m]\u001b[49m]\n",
      "\u001b[1;31mIndexError\u001b[0m: index 0 is out of bounds for axis 0 with size 0"
     ]
    }
   ],
   "source": [
    "s[np.where(id == s)[0][0]]"
   ]
  },
  {
   "cell_type": "code",
   "execution_count": 23,
   "id": "601268f2-d4f4-4942-8f90-5e869afe7aec",
   "metadata": {},
   "outputs": [
    {
     "data": {
      "text/plain": [
       "0"
      ]
     },
     "execution_count": 23,
     "metadata": {},
     "output_type": "execute_result"
    }
   ],
   "source": [
    "len(np.where(id == s)[0])"
   ]
  },
  {
   "cell_type": "code",
   "execution_count": 5,
   "id": "b0197930-5a39-40aa-ac6d-dbcbe10b71fd",
   "metadata": {},
   "outputs": [],
   "source": [
    "import pickle\n",
    "import xgboost\n",
    "import shap\n",
    "import pandas as pd\n",
    "# Read Scaler\n",
    "with open('../API/standard_scaler.pkl', 'rb') as inp:\n",
    "    ss = pickle.load(inp)\n",
    "\n",
    "# Read model\n",
    "with open('../API/xgb_model.pkl', 'rb') as inp:\n",
    "    xgb = pickle.load(inp)\n",
    "\n",
    "# Read explainer\n",
    "with open('../API/shap_xgb_explainer.pkl', 'rb') as inp:\n",
    "    xgb_explainer = pickle.load(inp)\n",
    "\n",
    "# Read data (X)\n",
    "df = pd.read_csv('../API/us_data_subset.csv')\n",
    "df_unscaled = df.copy()\n",
    "\n",
    "# Get targets & ids as separate lists\n",
    "target = df.pop('TARGET')\n",
    "sk_id_curr = df.pop('SK_ID_CURR')\n",
    "\n",
    "# Scaled df\n",
    "df_ss = pd.DataFrame(ss.transform(df), columns = df.columns)\n",
    "probs = xgb.predict_proba(df_ss)[:,1]"
   ]
  },
  {
   "cell_type": "code",
   "execution_count": 13,
   "id": "2693bc0b-64dd-4879-b508-031a3c110627",
   "metadata": {},
   "outputs": [
    {
     "data": {
      "text/plain": [
       "0    283409\n",
       "1    170997\n",
       "2    271899\n",
       "3    200875\n",
       "4    286140\n",
       "Name: SK_ID_CURR, dtype: int64"
      ]
     },
     "execution_count": 13,
     "metadata": {},
     "output_type": "execute_result"
    }
   ],
   "source": [
    "sk_id_curr[:5]"
   ]
  },
  {
   "cell_type": "code",
   "execution_count": 15,
   "id": "2cba8ed5-eb41-4f62-8f3c-587f5ba3b8d1",
   "metadata": {},
   "outputs": [
    {
     "data": {
      "text/plain": [
       "1"
      ]
     },
     "execution_count": 15,
     "metadata": {},
     "output_type": "execute_result"
    }
   ],
   "source": [
    "import numpy as np\n",
    "\n",
    "id_ = 283409\n",
    "\n",
    "id_pos = np.where(sk_id_curr == id_)\n",
    "len(id_pos[0])"
   ]
  }
 ],
 "metadata": {
  "kernelspec": {
   "display_name": "Python 3 (ipykernel)",
   "language": "python",
   "name": "python3"
  },
  "language_info": {
   "codemirror_mode": {
    "name": "ipython",
    "version": 3
   },
   "file_extension": ".py",
   "mimetype": "text/x-python",
   "name": "python",
   "nbconvert_exporter": "python",
   "pygments_lexer": "ipython3",
   "version": "3.9.12"
  }
 },
 "nbformat": 4,
 "nbformat_minor": 5
}
